{
 "cells": [
  {
   "cell_type": "markdown",
   "metadata": {},
   "source": [
    "<h1><font color=\"cyan\">Transforming an Entity-Relationship Model into a Relational Database Schema (7-Step Process)</font></h1>"
   ]
  },
  {
   "cell_type": "markdown",
   "metadata": {},
   "source": [
    "The whole purpose of designing an entity-relationship model is to use it as the blueprint (design diagram) for the final relational database schema. Transforming an ER model into a relational schema is carried out using a simple 7-step mapping process.\n",
    "\n",
    "Consider the following ER model depicting the operations of a small company."
   ]
  },
  {
   "cell_type": "markdown",
   "metadata": {},
   "source": [
    "![Alt text](<7-Step Data/Complete Company ER.png>)"
   ]
  },
  {
   "cell_type": "markdown",
   "metadata": {},
   "source": [
    "By applying the 7-step mapping process, this will be transformed into a formal *relational database schema* (listing the relations, their attributes, primary keys, foreign keys, etc). The final schema is given below."
   ]
  },
  {
   "cell_type": "markdown",
   "metadata": {},
   "source": [
    "`Employee (`<u>`SSN`</u>`, fname, minit, lname, bdate, address, gender, salary, DNo*, SuperSSN*)`<br>\n",
    "`Department (`<u>`DNo`</u>`, Dname, MGR_SSN*, MGR_StartDate)`<br>\n",
    "`Project (`<u>`Pnumber`</u>`, Pname, Plocation, Dno*)`<br>\n",
    "`Dependent (`<u>`ESSN*`</u>`, `<u>`Name`</u>`, gender, bdate, relationship)`<br>\n",
    "`DeptLocations (`<u>`DNo*`</u>`, `<u>`DLocation`</u>`)`<br>\n",
    "`WorksOn (`<u>`ESSN*`</u>`, `<u>`Pno*`</u>`)`"
   ]
  },
  {
   "cell_type": "markdown",
   "metadata": {},
   "source": [
    "In this schema, we denote primary key attributes by underlining them. Foreign keys are denoted by an asterisk.\n",
    "\n",
    "Now, let's follow the 7 steps."
   ]
  },
  {
   "cell_type": "markdown",
   "metadata": {},
   "source": [
    "<h1><font color=\"cyan\">Step 1: Mapping strong entities</font></h1>"
   ]
  },
  {
   "cell_type": "markdown",
   "metadata": {},
   "source": [
    "For all strong (regular) entities, create a relation holding all the simple attributes in the entity.\n",
    "\n",
    "The primary key of the entity type becomes the primary key of the relation.\n",
    "\n",
    "Composite attributes should be separated into their component (simple) attributes.\n",
    "\n",
    "Example: "
   ]
  },
  {
   "cell_type": "markdown",
   "metadata": {},
   "source": [
    "`Employee (`<u>`SSN`</u>`, fname, minit, lname, bdate, address, gender, salary)`"
   ]
  },
  {
   "cell_type": "markdown",
   "metadata": {},
   "source": [
    "<h1><font color=\"cyan\">Step 2: Mapping weak entities</font></h1>"
   ]
  },
  {
   "cell_type": "markdown",
   "metadata": {},
   "source": [
    "For each weak entity type, create a relation holding all the simple attributes in the entity.\n",
    "\n",
    "Add the primary key attributes of the owner entity into this new relation.\n",
    "\n",
    "These primary key attributes along with the partial key attributes form the primary key for this new relation."
   ]
  },
  {
   "cell_type": "markdown",
   "metadata": {},
   "source": [
    "![Alt text](<7-Step Data/Screen Shot 2021-05-04 at 10.05.25 pm.png>)"
   ]
  },
  {
   "cell_type": "markdown",
   "metadata": {},
   "source": [
    "<h1><font color=\"cyan\">Step 3: Mapping 1:1 relationships</font></h1>"
   ]
  },
  {
   "cell_type": "markdown",
   "metadata": {},
   "source": [
    "If your ER model contains any 1:1 relationships, depending on their participation type, there can be three possible scenarios:\n",
    "\n",
    "*  Mandatory participation on both sides\n",
    "*  Mandatory participation on one side\n",
    "*  Optional participation on both sides\n"
   ]
  },
  {
   "cell_type": "markdown",
   "metadata": {},
   "source": [
    "<h3><font color=\"cyan\">Step 3.1 Mandatory participation on both sides</font></h3>"
   ]
  },
  {
   "cell_type": "markdown",
   "metadata": {},
   "source": [
    "Let’s say we have an additional business rule that states each project must have a consultant (not an employee) and a consultant can audit one and only one project. Also, projects are not audited by more than one consultant."
   ]
  },
  {
   "cell_type": "markdown",
   "metadata": {},
   "source": [
    "![Alt text](<7-Step Data/mapping 2.png>)"
   ]
  },
  {
   "cell_type": "markdown",
   "metadata": {},
   "source": [
    "In this situation, we __*combine*__ the entities involved into one relation and choose one of the primary keys of the original entities to be the primary key of the new relation.\n",
    "\n",
    "The resultant relation is then:"
   ]
  },
  {
   "cell_type": "markdown",
   "metadata": {},
   "source": [
    "`Project (`<u>`Pnumber`</u>`, Pname, Plocation, ConsultantEMail, ConsultantName, ConsultantTelephone)`"
   ]
  },
  {
   "cell_type": "markdown",
   "metadata": {},
   "source": [
    "<h3><font color=\"cyan\">Step 3.2 Mandatory participation on one side</font></h3>"
   ]
  },
  {
   "cell_type": "markdown",
   "metadata": {},
   "source": [
    "In this case, we are able to identify the parent and child entities for the 1:1 relationship using the participation constraints.\n",
    "\n",
    "The entity that has __optional participation__ in the relationship is designated as the parent entity, and the entity that has mandatory participation in the relationship is designated as the child entity\n",
    "\n",
    "A copy of the primary key of the parent entity __(i. e. the optionally participating entity)__ is placed in the relation representing the child entity.\n",
    "\n",
    "If there are attributes associated with the relationship, copy them in the same direction."
   ]
  },
  {
   "cell_type": "markdown",
   "metadata": {},
   "source": [
    "![Alt text](<7-Step Data/Screen Shot 2021-05-04 at 10.15.45 pm.png>)"
   ]
  },
  {
   "cell_type": "markdown",
   "metadata": {},
   "source": [
    "<h3><font color=\"cyan\">Step 3.3 Optional participation on both sides</font></h3>"
   ]
  },
  {
   "cell_type": "markdown",
   "metadata": {},
   "source": [
    "In this case, we cannot determine a definitive direction you can copy the primary key as a foreign key.\n",
    "\n",
    "Unless you can find more about the semantics of this relationship, the mapping will be arbitrary.\n",
    "\n",
    "E.g. Consider an additional business rule that states that some projects can have at most one vehicle assigned. However, not all projects have vehicles. Also, each vehicle is assigned to one project only, but there can be some vehicles in the pool that are not assigned to any project."
   ]
  },
  {
   "cell_type": "markdown",
   "metadata": {},
   "source": [
    "![Alt text](<7-Step Data/mapping 3.3.png>)"
   ]
  },
  {
   "cell_type": "markdown",
   "metadata": {},
   "source": [
    "In this context, we can assume Project is of primary importance and quite central to this model, vehicles are of secondary importance. And, assume most of the projects have a vehicle assigned.\n",
    "\n",
    "So, it is logical to copy vehicle registration number (colloquially known as \"rego\") as a foreign key."
   ]
  },
  {
   "cell_type": "markdown",
   "metadata": {},
   "source": [
    "`Project (`<u>`Pnumber`</u>`, Pname, Plocation, Rego*)`"
   ]
  },
  {
   "cell_type": "markdown",
   "metadata": {},
   "source": [
    "<h1><font color=\"cyan\">Step 4: Mapping 1:N relationships</font></h1>"
   ]
  },
  {
   "cell_type": "markdown",
   "metadata": {},
   "source": [
    "1:N relationships are mapped into relations with the help of a foreign key.\n",
    "\n",
    "For each 1:N relationship, identify the entity that is on the one side of the cardinality.\n",
    "\n",
    "Copy the primary key of the one-side entity to the relation representing the N-side entity.\n",
    "\n",
    "This will become a foreign key within the N-side."
   ]
  },
  {
   "cell_type": "markdown",
   "metadata": {},
   "source": [
    "![Alt text](<7-Step Data/mapping 4.png>)"
   ]
  },
  {
   "cell_type": "markdown",
   "metadata": {},
   "source": [
    "Example:\n",
    "\n",
    "“AssignedTo” is a 1:N relationship. Department is on the 1-side. So, copy primary key of the Department into Employee (N-side) relation."
   ]
  },
  {
   "cell_type": "markdown",
   "metadata": {},
   "source": [
    "`Employee (`<u>`SSN`</u>`, fname, minit, lname, bdate, address, gender, salary, DNo*)`"
   ]
  },
  {
   "cell_type": "markdown",
   "metadata": {},
   "source": [
    "<h1><font color=\"cyan\">Step 5: Mapping M:N Relationships</font></h1>"
   ]
  },
  {
   "cell_type": "markdown",
   "metadata": {},
   "source": [
    "For each of the many-to-many relationships, *create a new relation.*\n",
    "\n",
    "Copy the primary key of each of the participating entities to the new relation. They -- together – become the primary key of this new relation. Each of these attributes also acts as foreign keys referencing to their original relations.\n",
    "\n",
    "Any attributes of the relationship become simple attributes of the new relation."
   ]
  },
  {
   "cell_type": "markdown",
   "metadata": {},
   "source": [
    "![Alt text](<7-Step Data/mapping 5.png>)"
   ]
  },
  {
   "cell_type": "markdown",
   "metadata": {},
   "source": [
    "In this case we create a new relation called WorksOn, as follows:"
   ]
  },
  {
   "cell_type": "markdown",
   "metadata": {},
   "source": [
    "`WorksOn (`<u>`ESSN*`</u>`, `<u>`Pno*`</u>`, Hours) [NOTE: the full ERD above is different as it does not include the \"Hours\" attribute of this example! Therefore \"hours\" does not appear in the \"final\" relation.]`"
   ]
  },
  {
   "cell_type": "markdown",
   "metadata": {},
   "source": [
    "ESSN is the primary key of Employee, Pno is the primary key of Project. Together they form the primary key of WorksOn relation.\n",
    "\n",
    "Hours is an attribute of the original relationship. So, it becomes a normal attribute in this new relation."
   ]
  },
  {
   "cell_type": "markdown",
   "metadata": {},
   "source": [
    "<h1><font color=\"cyan\">Step 6: Multi-valued attributes</font></h1>"
   ]
  },
  {
   "cell_type": "markdown",
   "metadata": {},
   "source": [
    "In the Relational model, we cannot have multi-valued attributes. They must be stored as separate rows in a new relation.\n",
    "\n",
    "For each multi-valued attribute, create a new relation. This new relation will include the corresponding attribute, along with the primary key of the owner entity. These attributes together form the primary key of the new relation.\n",
    "\n",
    "The \"owner\" relation's primary key attribute acts as a foreign key, referencing to the \"owner\" relation."
   ]
  },
  {
   "cell_type": "markdown",
   "metadata": {},
   "source": [
    "`DeptLocations (`<u>`DNo*`</u>`, `<u>`DLocation`</u>`)`"
   ]
  },
  {
   "cell_type": "markdown",
   "metadata": {},
   "source": [
    "DNo is the primary key of the owner entity Department.  DLocation was a multi-valued attribute within the Department entity."
   ]
  },
  {
   "cell_type": "markdown",
   "metadata": {},
   "source": [
    "<h1><font color=\"cyan\">Step 7: Mapping higher-degree relationships</font></h1>"
   ]
  },
  {
   "cell_type": "markdown",
   "metadata": {},
   "source": [
    "In a rare event that you have higher-degree relationships (such as ternary relationships), create a new relation holding primary keys from all participating entities.\n",
    "\n",
    "These primary keys (from each participating entity) together form the primary key of the new relation.\n",
    "\n",
    "Example: Consider a situation where each purchase order is defined as a ternary relationship involving a client, the serving employee, and a part. This relationship can be mapped as follows:"
   ]
  },
  {
   "cell_type": "markdown",
   "metadata": {},
   "source": [
    "`Order (`<u>`EmpNo*`</u>`, `<u>`ClientNo*`</u>`, `<u>`PartNo*`</u>`, quantity)`"
   ]
  }
 ],
 "metadata": {
  "language_info": {
   "name": "python"
  },
  "orig_nbformat": 4
 },
 "nbformat": 4,
 "nbformat_minor": 2
}
